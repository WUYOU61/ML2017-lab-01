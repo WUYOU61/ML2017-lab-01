{
 "cells": [
  {
   "cell_type": "code",
   "execution_count": 1,
   "metadata": {},
   "outputs": [],
   "source": [
    "%matplotlib inline\n",
    "import matplotlib.pyplot as plt\n",
    "import numpy as np\n",
    "\n",
    "#读入数据\n",
    "from sklearn.datasets import load_svmlight_file\n",
    "t_X,t_y=load_svmlight_file(\"housing_scale.txt\")\n",
    "t_X = t_X.toarray() #转换成numpy数组\n",
    "\n",
    "#拆分训练集和测试集\n",
    "from sklearn.model_selection import train_test_split\n",
    "train_X,test_X, train_y, test_y = train_test_split(t_X,  \n",
    "                                                   t_y,  \n",
    "                                                   test_size = 0.2,  \n",
    "                                                   random_state = 0)\n",
    "\n",
    "#用于计算梯度以及参数更新位置\n",
    "train_X_trans = train_X.transpose()\n",
    "#训练集上的预测值变量\n",
    "train_y_cal = np.zeros(train_y.shape[0])\n",
    "#测试集上的预测值变量\n",
    "test_y_cal = np.zeros(test_y.shape[0])\n",
    "\n",
    "#线性模型参数初始化，使用正态分布初始化。\n",
    "W_num = train_X.shape[1]\n",
    "mu,sigma=0,0.1 #均值与标准差\n",
    "W=np.random.normal(mu,sigma,W_num)\n",
    "b=np.random.normal(mu,sigma,1)"
   ]
  },
  {
   "cell_type": "code",
   "execution_count": 2,
   "metadata": {},
   "outputs": [],
   "source": [
    "#迭代更新参数\n",
    "iteration = 1000\n",
    "#loss_train\n",
    "mse_train = np.zeros(iteration)\n",
    "#loss_test\n",
    "mse_test = np.zeros(iteration)\n",
    "\n",
    "for iters in range(iteration):\n",
    "    #计算训练集上的预测值\n",
    "    for i in range(train_X.shape[0]):\n",
    "        train_y_cal[i] = np.sum(train_X[i] * W) + np.sum(b)\n",
    "            \n",
    "    #计算测试集上的预测值\n",
    "    for i in range(test_X.shape[0]):\n",
    "        test_y_cal[i] = np.sum(test_X[i] * W) + np.sum(b)\n",
    "            \n",
    "    #根据平方距离计算训练集上的误差\n",
    "    mse_train[iters] = 0.5 * 1/train_X.shape[0] * np.sum(np.square(train_y_cal - train_y))\n",
    "    #print (mse_train[iters])\n",
    "    \n",
    "    #根据平方距离计算测试集上的误差\n",
    "    mse_test[iters] = 0.5 * 1/test_X.shape[0] * np.sum(np.square(test_y_cal - test_y))\n",
    "    \n",
    "    #计算梯度以及参数更新位置\n",
    "    gradient = np.zeros(train_X_trans.shape[0])\n",
    "    for i in range(train_X_trans.shape[0]):\n",
    "        gradient[i] = 1/train_X.shape[0] * np.sum((train_y_cal - train_y) * train_X_trans[i])\n",
    "    direction = -gradient\n",
    "    #print(W)\n",
    "    learning_rate = 0.001\n",
    "    #参数更新\n",
    "    W = W + learning_rate * direction\n",
    "    b = b - learning_rate * 1/train_X.shape[0] * np.sum(train_y_cal - train_y)"
   ]
  },
  {
   "cell_type": "code",
   "execution_count": 3,
   "metadata": {},
   "outputs": [
    {
     "data": {
      "text/plain": [
       "[<matplotlib.lines.Line2D at 0x11137c908>]"
      ]
     },
     "execution_count": 3,
     "metadata": {},
     "output_type": "execute_result"
    },
    {
     "data": {
      "image/png": "[encoded data removed]",
      "text/plain": [
       "<matplotlib.figure.Figure at 0x10b73e278>"
      ]
     },
     "metadata": {},
     "output_type": "display_data"
    }
   ],
   "source": [
    "plt.xlabel(\"Iteration\")  \n",
    "plt.ylabel(\"Ltrain\")   \n",
    "plt.plot(mse_train)"
   ]
  },
  {
   "cell_type": "code",
   "execution_count": 4,
   "metadata": {},
   "outputs": [
    {
     "data": {
      "text/plain": [
       "[<matplotlib.lines.Line2D at 0x111455780>]"
      ]
     },
     "execution_count": 4,
     "metadata": {},
     "output_type": "execute_result"
    },
    {
     "data": {
      "image/png": "[encoded data removed]",
      "text/plain": [
       "<matplotlib.figure.Figure at 0x10b733c18>"
      ]
     },
     "metadata": {},
     "output_type": "display_data"
    }
   ],
   "source": [
    "plt.xlabel(\"Iteration\")  \n",
    "plt.ylabel(\"Ltest\")\n",
    "plt.plot(mse_test)"
   ]
  },
  {
   "cell_type": "code",
   "execution_count": null,
   "metadata": {},
   "outputs": [],
   "source": []
  }
 ],
 "metadata": {
  "kernelspec": {
   "display_name": "Python 3",
   "language": "python",
   "name": "python3"
  },
  "language_info": {
   "codemirror_mode": {
    "name": "ipython",
    "version": 3
   },
   "file_extension": ".py",
   "mimetype": "text/x-python",
   "name": "python",
   "nbconvert_exporter": "python",
   "pygments_lexer": "ipython3",
   "version": "3.5.4"
  }
 },
 "nbformat": 4,
 "nbformat_minor": 2
}
