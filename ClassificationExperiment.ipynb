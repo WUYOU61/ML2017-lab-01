{
 "cells": [
  {
   "cell_type": "code",
   "execution_count": 1,
   "metadata": {},
   "outputs": [],
   "source": [
    "%matplotlib inline\n",
    "import matplotlib.pyplot as plt\n",
    "import numpy as np\n",
    "\n",
    "#读入数据\n",
    "from sklearn.datasets import load_svmlight_file\n",
    "t_X,t_y=load_svmlight_file(\"australian_scale.txt\")\n",
    "t_X = t_X.toarray() #转换成numpy数组\n",
    "\n",
    "#拆分训练集和测试集\n",
    "from sklearn.model_selection import train_test_split\n",
    "train_X,test_X, train_y, test_y = train_test_split(t_X,  \n",
    "                                                   t_y,  \n",
    "                                                   test_size = 0.2,  \n",
    "                                                   random_state = 0)\n",
    "\n",
    "#训练集上的预测值变量\n",
    "train_y_cal = np.zeros(train_y.shape[0])\n",
    "#测试集上的预测值变量\n",
    "test_y_cal = np.zeros(test_y.shape[0])\n",
    "\n",
    "#线性模型参数初始化，使用正态分布初始化。\n",
    "W_num = train_X.shape[1]\n",
    "mu,sigma=0,0.1 #均值与标准差\n",
    "W=np.random.normal(mu,sigma,W_num)\n",
    "b=np.random.normal(mu,sigma,1)"
   ]
  },
  {
   "cell_type": "code",
   "execution_count": 45,
   "metadata": {},
   "outputs": [],
   "source": [
    "#惩罚项\n",
    "penalty = 10\n",
    "\n",
    "#迭代更新参数\n",
    "iteration = 1000\n",
    "#loss_train\n",
    "hinge_train = np.zeros(iteration)\n",
    "#loss_test\n",
    "hinge_test = np.zeros(iteration)\n",
    "\n",
    "for iters in range(iteration):\n",
    "    #计算训练集上的预测值\n",
    "    for i in range(train_X.shape[0]):\n",
    "        train_y_cal[i] = np.sum(train_X[i] * W) + np.sum(b)\n",
    "            \n",
    "    #计算测试集上的预测值\n",
    "    for i in range(test_X.shape[0]):\n",
    "        test_y_cal[i] = np.sum(test_X[i] * W) + np.sum(b)\n",
    "            \n",
    "    #计算训练集上的hinge误差\n",
    "    hinge_train[iters] = 0.5 * np.sum(np.square(W)) + penalty * 1/train_X.shape[0] * np.sum(np.maximum(0, 1 - train_y_cal * train_y))\n",
    "    \n",
    "    #计算测试集上的hinge误差\n",
    "    hinge_test[iters] = 0.5 * np.sum(np.square(W)) + penalty * 1/test_X.shape[0] * np.sum(np.maximum(0, 1 - test_y_cal * test_y))\n",
    "    \n",
    "    g_w = np.zeros((train_X.shape[0],train_X.shape[1]))\n",
    "    #计算梯度以及参数更新位置\n",
    "    for i in range(train_X.shape[0]):\n",
    "        if (1 - train_y[i] * train_y_cal[i]) >= 0:\n",
    "            g_w[i] = -train_y[i] * train_X[i]\n",
    "    gradient = W + penalty * 1/train_X.shape[0] * np.sum(g_w)\n",
    "    direction = -gradient\n",
    "    \n",
    "    g_b = np.zeros((train_X.shape[0],train_X.shape[1]))\n",
    "    #计算梯度以及参数更新位置\n",
    "    for i in range(train_X.shape[0]):\n",
    "        if (1 - train_y[i] * train_y_cal[i]) >= 0:\n",
    "            g_b[i] = -train_y[i]\n",
    "    \n",
    "    learning_rate = 0.0001\n",
    "    #参数更新\n",
    "    W = W + learning_rate * direction\n",
    "    b = b - learning_rate * penalty * 1/train_X.shape[0] * np.sum(g_b)"
   ]
  },
  {
   "cell_type": "code",
   "execution_count": 46,
   "metadata": {},
   "outputs": [
    {
     "data": {
      "text/plain": [
       "[<matplotlib.lines.Line2D at 0x1a125a76d8>]"
      ]
     },
     "execution_count": 46,
     "metadata": {},
     "output_type": "execute_result"
    },
    {
     "data": {
      "image/png": "[encoded data removed]",
      "text/plain": [
       "<matplotlib.figure.Figure at 0x1a12503978>"
      ]
     },
     "metadata": {},
     "output_type": "display_data"
    }
   ],
   "source": [
    "plt.xlabel(\"Iteration\")\n",
    "plt.ylabel(\"Ltrain\")\n",
    "plt.plot(hinge_train)"
   ]
  },
  {
   "cell_type": "code",
   "execution_count": 47,
   "metadata": {},
   "outputs": [
    {
     "data": {
      "text/plain": [
       "[<matplotlib.lines.Line2D at 0x1a12666470>]"
      ]
     },
     "execution_count": 47,
     "metadata": {},
     "output_type": "execute_result"
    },
    {
     "data": {
      "image/png": "[encoded data removed]",
      "text/plain": [
       "<matplotlib.figure.Figure at 0x1a125b96d8>"
      ]
     },
     "metadata": {},
     "output_type": "display_data"
    }
   ],
   "source": [
    "plt.xlabel(\"Iteration\")  \n",
    "plt.ylabel(\"Ltest\")\n",
    "plt.plot(hinge_test)"
   ]
  },
  {
   "cell_type": "code",
   "execution_count": null,
   "metadata": {},
   "outputs": [],
   "source": []
  }
 ],
 "metadata": {
  "kernelspec": {
   "display_name": "Python 3",
   "language": "python",
   "name": "python3"
  },
  "language_info": {
   "codemirror_mode": {
    "name": "ipython",
    "version": 3
   },
   "file_extension": ".py",
   "mimetype": "text/x-python",
   "name": "python",
   "nbconvert_exporter": "python",
   "pygments_lexer": "ipython3",
   "version": "3.5.4"
  }
 },
 "nbformat": 4,
 "nbformat_minor": 2
}
